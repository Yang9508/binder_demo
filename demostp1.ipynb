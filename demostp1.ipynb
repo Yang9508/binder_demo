{
 "cells": [
  {
   "cell_type": "code",
   "execution_count": 1,
   "metadata": {},
   "outputs": [
    {
     "data": {
      "text/html": [
       "<div>\n",
       "<style scoped>\n",
       "    .dataframe tbody tr th:only-of-type {\n",
       "        vertical-align: middle;\n",
       "    }\n",
       "\n",
       "    .dataframe tbody tr th {\n",
       "        vertical-align: top;\n",
       "    }\n",
       "\n",
       "    .dataframe thead th {\n",
       "        text-align: right;\n",
       "    }\n",
       "</style>\n",
       "<table border=\"1\" class=\"dataframe\">\n",
       "  <thead>\n",
       "    <tr style=\"text-align: right;\">\n",
       "      <th></th>\n",
       "      <th>line</th>\n",
       "      <th>text</th>\n",
       "    </tr>\n",
       "  </thead>\n",
       "  <tbody>\n",
       "    <tr>\n",
       "      <th>0</th>\n",
       "      <td>1</td>\n",
       "      <td>EXT: The ruins of King's Landing</td>\n",
       "    </tr>\n",
       "    <tr>\n",
       "      <th>1</th>\n",
       "      <td>2</td>\n",
       "      <td>TYRION walks silently through the smoldering d...</td>\n",
       "    </tr>\n",
       "    <tr>\n",
       "      <th>2</th>\n",
       "      <td>3</td>\n",
       "      <td>A man comes towards TYRION, shambling in a sta...</td>\n",
       "    </tr>\n",
       "    <tr>\n",
       "      <th>3</th>\n",
       "      <td>4</td>\n",
       "      <td>TYRION, JON and DAVOS pause at mangled body of...</td>\n",
       "    </tr>\n",
       "    <tr>\n",
       "      <th>4</th>\n",
       "      <td>5</td>\n",
       "      <td>TYRION: I'll find you later.</td>\n",
       "    </tr>\n",
       "  </tbody>\n",
       "</table>\n",
       "</div>"
      ],
      "text/plain": [
       "   line                                               text\n",
       "0     1                   EXT: The ruins of King's Landing\n",
       "1     2  TYRION walks silently through the smoldering d...\n",
       "2     3  A man comes towards TYRION, shambling in a sta...\n",
       "3     4  TYRION, JON and DAVOS pause at mangled body of...\n",
       "4     5                       TYRION: I'll find you later."
      ]
     },
     "execution_count": 1,
     "metadata": {},
     "output_type": "execute_result"
    }
   ],
   "source": [
    "import pandas as pd\n",
    "import re\n",
    "with open(\"got8_6.txt\") as srp:\n",
    "    data = srp.read()\n",
    "\n",
    "# delete words before and after the script\n",
    "data = data.split('THE IRON THRONE LYRICS')[1]\n",
    "data = data.split('<IMG SRC=\"https://pixel.adsafeprotected.com/rfw/st/279475/36549112/skeleton.gif\"')[0]\n",
    "\n",
    "# remove null string\n",
    "regex = r\"^$\\n\"\n",
    "subst = \"\"\n",
    "data = re.sub(regex, subst, data, 0, re.MULTILINE)\n",
    "\n",
    "# split script into lines and number each line\n",
    "lines = data.split('\\n')\n",
    "myrows = []\n",
    "n = 1\n",
    "for line in lines:\n",
    "    myrows.append([n, line])\n",
    "    n = n+1\n",
    "    \n",
    "# transfer array to dataframe and rename the name of df\n",
    "df = pd.DataFrame(myrows)\n",
    "df.columns = ['line', 'text']\n",
    "# df.head()\n",
    "\n",
    "# save the data into got8_6.csv file\n",
    "df.to_csv('got8_6.csv', index=False)"
   ]
  },
  {
   "cell_type": "code",
   "execution_count": null,
   "metadata": {},
   "outputs": [],
   "source": []
  },
  {
   "cell_type": "code",
   "execution_count": null,
   "metadata": {},
   "outputs": [],
   "source": []
  }
 ],
 "metadata": {
  "kernelspec": {
   "display_name": "Python 3",
   "language": "python",
   "name": "python3"
  },
  "language_info": {
   "codemirror_mode": {
    "name": "ipython",
    "version": 3
   },
   "file_extension": ".py",
   "mimetype": "text/x-python",
   "name": "python",
   "nbconvert_exporter": "python",
   "pygments_lexer": "ipython3",
   "version": "3.7.3"
  }
 },
 "nbformat": 4,
 "nbformat_minor": 2
}
