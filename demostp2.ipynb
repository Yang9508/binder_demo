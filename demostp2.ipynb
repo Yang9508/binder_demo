{
 "cells": [
  {
   "cell_type": "code",
   "execution_count": null,
   "metadata": {},
   "outputs": [],
   "source": [
    "library(dplyr)\n",
    "library(tidytext)\n",
    "library(tidyr)\n",
    "library(ggplot2)"
   ]
  },
  {
   "cell_type": "code",
   "execution_count": null,
   "metadata": {},
   "outputs": [],
   "source": [
    "got8_6scp = read.csv(\"got8_6.csv\", stringsAsFactors=FALSE)"
   ]
  },
  {
   "cell_type": "code",
   "execution_count": null,
   "metadata": {},
   "outputs": [],
   "source": [
    "# splitting a string into a sequence of \"words\"\n",
    "tidy_script = got8_6scp %>%\n",
    "unnest_tokens(word, text)\n",
    "head(tidy_script)\n",
    "\n",
    "# using the emotion dictionary bing\n",
    "tidy_script %>%\n",
    "  anti_join(stop_words) %>%\n",
    "  inner_join(get_sentiments(\"bing\")) %>%\n",
    "  count(line, sentiment) %>%\n",
    "  mutate(index = line %/% 5) %>% #combine 5 lines as a paragraph\n",
    "  arrange(line) %>%\n",
    "  head(10)"
   ]
  },
  {
   "cell_type": "code",
   "execution_count": null,
   "metadata": {},
   "outputs": [],
   "source": [
    "# plot the line\n",
    "tidy_script %>%\n",
    "  anti_join(stop_words) %>%\n",
    "  inner_join(get_sentiments(\"bing\")) %>%\n",
    "  count(line, sentiment) %>%\n",
    "  mutate(index = line %/% 5)  %>% #combine 5 lines as a paragraph\n",
    "  ggplot(aes(x = index, y=n, col= sentiment)) %>%\n",
    "  + geom_col() %>%\n",
    "  + facet_wrap(~sentiment, ncol = 1) %>%\n",
    "  + ggsave(file=\"got8_6sen.png\", width=5, height=4)"
   ]
  }
 ],
 "metadata": {
  "kernelspec": {
   "display_name": "R",
   "language": "R",
   "name": "ir"
  },
  "language_info": {
   "codemirror_mode": "r",
   "file_extension": ".r",
   "mimetype": "text/x-r-source",
   "name": "R",
   "pygments_lexer": "r",
   "version": "3.6.0"
  }
 },
 "nbformat": 4,
 "nbformat_minor": 2
}
